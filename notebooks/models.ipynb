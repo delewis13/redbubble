{
 "cells": [
  {
   "cell_type": "code",
   "execution_count": 2,
   "metadata": {},
   "outputs": [],
   "source": [
    "from marshmallow import Schema, fields, post_load, INCLUDE, EXCLUDE\n",
    "import json"
   ]
  },
  {
   "cell_type": "markdown",
   "metadata": {},
   "source": [
    "### Dealing with kebabcase -> snakecase"
   ]
  },
  {
   "cell_type": "code",
   "execution_count": 3,
   "metadata": {},
   "outputs": [],
   "source": [
    "def kebabcase(s):\n",
    "    return s.replace('_', '-')\n",
    "\n",
    "class KebabCaseSchema(Schema):\n",
    "    \"\"\"\n",
    "    Schema that uses kebab-case for its external representation\n",
    "    and snake-case for its internal representation.\n",
    "    \"\"\"\n",
    "    class Meta:\n",
    "        unknown = EXCLUDE\n",
    "        \n",
    "    def on_bind_field(self, field_name, field_obj):\n",
    "        field_obj.data_key = kebabcase(field_obj.data_key or field_name)"
   ]
  },
  {
   "cell_type": "code",
   "execution_count": null,
   "metadata": {},
   "outputs": [],
   "source": []
  },
  {
   "cell_type": "markdown",
   "metadata": {},
   "source": [
    "### Standard marshmallow"
   ]
  },
  {
   "cell_type": "code",
   "execution_count": 4,
   "metadata": {},
   "outputs": [],
   "source": [
    "class Item:\n",
    "    def __init__(self, product_type, options, artist_markup, quantity, **kwargs):\n",
    "        self.product_type = product_type\n",
    "        self.options = options\n",
    "        self.artist_markup = artist_markup\n",
    "        self.quantity = quantity\n",
    "        \n",
    "    def __repr__(self):\n",
    "        return f\"<Item: {self.product_type}>\"\n",
    "\n",
    "class ItemSchema(KebabCaseSchema):\n",
    "    \"\"\"\n",
    "    A schema for items as defined within cart.schema.json\n",
    "    Converts kebab case to snake case\n",
    "    \"\"\"\n",
    "    class Meta:\n",
    "        unknown = EXCLUDE\n",
    "        \n",
    "    product_type = fields.Str(required=True)\n",
    "    options = fields.Dict(required=True)\n",
    "    artist_markup = fields.Int(reuqired=True)\n",
    "    quantity = fields.Int(required=True)\n",
    "\n",
    "    @post_load\n",
    "    def load_item(self, data, **kwargs):\n",
    "        return Item(**data)\n"
   ]
  },
  {
   "cell_type": "code",
   "execution_count": 5,
   "metadata": {},
   "outputs": [],
   "source": [
    "item = {\n",
    "    \"product-type\": \"shirt\", \n",
    "    \"options\": {\"key\": \"value\"}, \n",
    "    \"artist-markup\": \"5\",\n",
    "    \"quantity\": 2\n",
    "}\n",
    "item_json = json.dumps(item)"
   ]
  },
  {
   "cell_type": "code",
   "execution_count": 6,
   "metadata": {},
   "outputs": [],
   "source": [
    "item = ItemSchema().loads(item_json, unknown=INCLUDE)"
   ]
  },
  {
   "cell_type": "markdown",
   "metadata": {},
   "source": [
    "### Marshmallow dataclass\n",
    "\n",
    "Allows for most DRY code via not requiring post_load step"
   ]
  },
  {
   "cell_type": "code",
   "execution_count": 7,
   "metadata": {},
   "outputs": [],
   "source": [
    "import marshmallow_dataclass\n",
    "from typing import Dict, Any"
   ]
  },
  {
   "cell_type": "code",
   "execution_count": 8,
   "metadata": {},
   "outputs": [],
   "source": [
    "@marshmallow_dataclass.dataclass(base_schema=KebabCaseSchema)\n",
    "class Item:     \n",
    "    product_type: str\n",
    "    options: Dict[Any, Any]\n",
    "    artist_markup: int\n",
    "    quantity: int"
   ]
  },
  {
   "cell_type": "code",
   "execution_count": 9,
   "metadata": {},
   "outputs": [],
   "source": [
    "item = {\n",
    "    \"product-type\": \"shirt\", \n",
    "    \"options\": {\"key\": \"value\"}, \n",
    "    \"artist-markup\": \"5\",\n",
    "    \"quantity\": 2,\n",
    "    \"other\": 3\n",
    "}\n",
    "item_json = json.dumps(item)"
   ]
  },
  {
   "cell_type": "code",
   "execution_count": 10,
   "metadata": {},
   "outputs": [],
   "source": [
    "item = Item.Schema().loads(item_json)"
   ]
  },
  {
   "cell_type": "markdown",
   "metadata": {},
   "source": [
    "### Loading demo data carts"
   ]
  },
  {
   "cell_type": "code",
   "execution_count": 11,
   "metadata": {},
   "outputs": [],
   "source": [
    "demo_files = [\"cart-4560.json\", \"cart-9363.json\", \"cart-9500.json\", \"cart-11356.json\"]"
   ]
  },
  {
   "cell_type": "code",
   "execution_count": 12,
   "metadata": {},
   "outputs": [
    {
     "name": "stdout",
     "output_type": "stream",
     "text": [
      "File: cart-4560.json \n",
      "Items: [Item(product_type='hoodie', options={'size': 'small', 'colour': 'white', 'print-location': 'front'}, artist_markup=20, quantity=1)]\n",
      "\n",
      "File: cart-9363.json \n",
      "Items: [Item(product_type='hoodie', options={'size': 'small', 'colour': 'dark', 'print-location': 'front'}, artist_markup=20, quantity=2), Item(product_type='sticker', options={'size': 'small'}, artist_markup=10, quantity=1)]\n",
      "\n",
      "File: cart-9500.json \n",
      "Items: [Item(product_type='hoodie', options={'size': 'small', 'colour': 'white', 'print-location': 'front'}, artist_markup=20, quantity=1), Item(product_type='hoodie', options={'size': 'small', 'colour': 'dark', 'print-location': 'front'}, artist_markup=30, quantity=1)]\n",
      "\n",
      "File: cart-11356.json \n",
      "Items: [Item(product_type='hoodie', options={'size': 'xl', 'colour': 'dark', 'print-location': 'back'}, artist_markup=30, quantity=2)]\n",
      "\n"
     ]
    }
   ],
   "source": [
    "for file in demo_files:\n",
    "    with open(f\"../examples/{file}\", \"r\") as f:\n",
    "        data = json.load(f)\n",
    "        \n",
    "    items = Item.Schema(many=True).load(data)\n",
    "    print(f'File: {file} \\nItems: {items}\\n')"
   ]
  },
  {
   "cell_type": "code",
   "execution_count": 25,
   "metadata": {},
   "outputs": [],
   "source": [
    "import itertools"
   ]
  },
  {
   "cell_type": "code",
   "execution_count": 51,
   "metadata": {},
   "outputs": [
    {
     "data": {
      "text/plain": [
       "'hello_3_j'"
      ]
     },
     "execution_count": 51,
     "metadata": {},
     "output_type": "execute_result"
    }
   ],
   "source": [
    "lists = [['hello'], [3,'5'], ['j', 'k']]\n",
    "tuples = list(itertools.product(*lists))\n",
    "'_'.join(str(key) for key in tuples[0])"
   ]
  },
  {
   "cell_type": "code",
   "execution_count": 49,
   "metadata": {},
   "outputs": [
    {
     "data": {
      "text/plain": [
       "[('hello', 'a', 'j'),\n",
       " ('hello', 'a', 'k'),\n",
       " ('hello', 'b', 'j'),\n",
       " ('hello', 'b', 'k')]"
      ]
     },
     "execution_count": 49,
     "metadata": {},
     "output_type": "execute_result"
    }
   ],
   "source": [
    "tuples"
   ]
  },
  {
   "cell_type": "code",
   "execution_count": null,
   "metadata": {},
   "outputs": [],
   "source": []
  },
  {
   "cell_type": "code",
   "execution_count": 35,
   "metadata": {},
   "outputs": [],
   "source": [
    "a = {'yyy': 1, 'hi': [1,2,3], 'bye': [4,5,6], 'zzz' :5}"
   ]
  },
  {
   "cell_type": "code",
   "execution_count": 36,
   "metadata": {},
   "outputs": [
    {
     "data": {
      "text/plain": [
       "['bye', 'hi', 'yyy', 'zzz']"
      ]
     },
     "execution_count": 36,
     "metadata": {},
     "output_type": "execute_result"
    }
   ],
   "source": [
    "sorted(a.keys())"
   ]
  },
  {
   "cell_type": "code",
   "execution_count": 24,
   "metadata": {},
   "outputs": [
    {
     "name": "stdout",
     "output_type": "stream",
     "text": [
      "hi [1, 2, 3]\n",
      "bye [4, 5, 6]\n"
     ]
    }
   ],
   "source": [
    "for key, value in a.items():\n",
    "    print(key, value)"
   ]
  }
 ],
 "metadata": {
  "kernelspec": {
   "display_name": "redbubble",
   "language": "python",
   "name": "redbubble"
  },
  "language_info": {
   "codemirror_mode": {
    "name": "ipython",
    "version": 3
   },
   "file_extension": ".py",
   "mimetype": "text/x-python",
   "name": "python",
   "nbconvert_exporter": "python",
   "pygments_lexer": "ipython3",
   "version": "3.8.5"
  }
 },
 "nbformat": 4,
 "nbformat_minor": 4
}
